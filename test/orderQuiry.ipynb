{
 "cells": [
  {
   "cell_type": "code",
   "execution_count": null,
   "metadata": {},
   "outputs": [],
   "source": [
    "# Initial Jupyter Script"
   ]
  },
  {
   "cell_type": "code",
   "execution_count": 4,
   "metadata": {},
   "outputs": [],
   "source": [
    "## imports\n",
    "\n",
    "import requests\n",
    "from requests.auth import HTTPBasicAuth\n",
    "import json\n",
    "import uuid\n",
    "from datetime import datetime\n",
    "\n",
    "header_content_type = 'Content-Type'\n",
    "\n",
    "today = datetime.today()\n",
    "\n",
    "formatted_date = today.strftime(\"%Y%m%d\")\n",
    "\n",
    "alert_date = today.strftime(\"%Y%m%dT%H:%M:%S.000Z\")\n",
    "amount = float(today.strftime(\"%H.%M\"))\n",
    "arn = today.strftime(\"%Y%m%d%H%M%S\") + \"12345789\"\n",
    "\n",
    "base_url = 'http://127.0.0.1:8000'\n",
    "url_extension = '/order/upload'"
   ]
  },
  {
   "cell_type": "code",
   "execution_count": 5,
   "metadata": {},
   "outputs": [],
   "source": [
    "headers = {\n",
    "    header_content_type: 'application/json'\n",
    "}\n",
    "\n",
    "data = {\n",
    "  \"order\": \"order12345\",\n",
    "  \"bin\": \"123456\",\n",
    "  \"last4\": \"1234\",\n",
    "  \"expDate\": \"1225\",\n",
    "  \"FirstName\": \"Bob\",\n",
    "  \"LastName\": \"Test\",\n",
    "  \"Email\": \"bob.test@email.com\",\n",
    "  \"Phone\": \"555-555-5555\",\n",
    "  \"OrderDate\": alert_date,\n",
    "  \"TotalAmount\": amount,\n",
    "  \"ARN\": arn,\n",
    "  \"BillingAddress\": {\n",
    "    \"BillingAddress1\": \"1234 Main St\",\n",
    "    \"BillingAddress2\": \"apt 101\",\n",
    "    \"BillingCity\": \"Testville\",\n",
    "    \"BillingState\": \"CA\",\n",
    "    \"BillingZipCode\": \"93000\",\n",
    "    \"ShippingAddress1\": \"1234 Main St\",\n",
    "    \"ShippingAddress2\": \"apt 101\",\n",
    "    \"ShippingCity\": \"Testville\",\n",
    "    \"ShippingState\": \"CA\",\n",
    "    \"ShippingZipCode\": \"93000\"\n",
    "  },\n",
    "  \"Items\": [\n",
    "    {\n",
    "      \"ItemID\": \"12345\",\n",
    "      \"Description\": \"Item\",\n",
    "      \"Quantity\": 1,\n",
    "      \"Price\": amount\n",
    "    }\n",
    "  ]\n",
    "}"
   ]
  },
  {
   "cell_type": "code",
   "execution_count": 7,
   "metadata": {},
   "outputs": [
    {
     "name": "stdout",
     "output_type": "stream",
     "text": [
      "Query Response: {\n",
      "  \"detail\": [\n",
      "    {\n",
      "      \"type\": \"missing\",\n",
      "      \"loc\": [\n",
      "        \"body\",\n",
      "        \"ShippingAddress\"\n",
      "      ],\n",
      "      \"msg\": \"Field required\",\n",
      "      \"input\": {\n",
      "        \"order\": \"order12345\",\n",
      "        \"bin\": \"123456\",\n",
      "        \"last4\": \"1234\",\n",
      "        \"expDate\": \"1225\",\n",
      "        \"FirstName\": \"Bob\",\n",
      "        \"LastName\": \"Test\",\n",
      "        \"Email\": \"bob.test@email.com\",\n",
      "        \"Phone\": \"555-555-5555\",\n",
      "        \"OrderDate\": \"20250628T17:05:12.000Z\",\n",
      "        \"TotalAmount\": 17.05,\n",
      "        \"ARN\": \"2025062817051212345789\",\n",
      "        \"BillingAddress\": {\n",
      "          \"BillingAddress1\": \"1234 Main St\",\n",
      "          \"BillingAddress2\": \"apt 101\",\n",
      "          \"BillingCity\": \"Testville\",\n",
      "          \"BillingState\": \"CA\",\n",
      "          \"BillingZipCode\": \"93000\",\n",
      "          \"ShippingAddress1\": \"1234 Main St\",\n",
      "          \"ShippingAddress2\": \"apt 101\",\n",
      "          \"ShippingCity\": \"Testville\",\n",
      "          \"ShippingState\": \"CA\",\n",
      "          \"ShippingZipCode\": \"93000\"\n",
      "        },\n",
      "        \"Items\": [\n",
      "          {\n",
      "            \"ItemID\": \"12345\",\n",
      "            \"Description\": \"Item\",\n",
      "            \"Quantity\": 1,\n",
      "            \"Price\": 17.05\n",
      "          }\n",
      "        ]\n",
      "      }\n",
      "    }\n",
      "  ]\n",
      "}\n"
     ]
    }
   ],
   "source": [
    "## Query for order\n",
    "\n",
    "url = base_url\n",
    "response = requests.post( url=url+url_extension , headers=headers, data=json.dumps(data) )\n",
    "\n",
    "print( 'Query Response: '  + json.dumps(response.json(), indent=2 ))\n"
   ]
  }
 ],
 "metadata": {
  "kernelspec": {
   "display_name": "venv",
   "language": "python",
   "name": "python3"
  },
  "language_info": {
   "codemirror_mode": {
    "name": "ipython",
    "version": 3
   },
   "file_extension": ".py",
   "mimetype": "text/x-python",
   "name": "python",
   "nbconvert_exporter": "python",
   "pygments_lexer": "ipython3",
   "version": "3.13.5"
  }
 },
 "nbformat": 4,
 "nbformat_minor": 2
}
